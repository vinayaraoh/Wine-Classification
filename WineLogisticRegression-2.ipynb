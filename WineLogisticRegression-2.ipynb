{
 "cells": [
  {
   "cell_type": "markdown",
   "id": "90a82f78",
   "metadata": {},
   "source": [
    "## Wine Origin Country Classification\n",
    "\n",
    "Italy and France are historically among the countries that produce the most prestigious wines worldwide. This dataset characterizes the Protected Designation of Origin(PDO) label wines produced in Italy and France at very high detail based on the official EU documents. In this project, I build a logistic regression model and a Random Forest model to predict the country of wine origin (IT/FR) based on features of the wine like colour, type and maximum allowed yields. I also perform clustering on the data in an attempt to predict the country of wine origin."
   ]
  },
  {
   "cell_type": "markdown",
   "id": "a7181627",
   "metadata": {},
   "source": [
    "### Importing Libraries"
   ]
  },
  {
   "cell_type": "code",
   "execution_count": 338,
   "id": "a1b1249c",
   "metadata": {},
   "outputs": [],
   "source": [
    "# Importing libraries\n",
    "import numpy as np\n",
    "import pandas as pd\n",
    "import matplotlib.pyplot as plt\n",
    "import seaborn as sns\n",
    "%matplotlib inline\n",
    "sns.set_style('whitegrid')"
   ]
  },
  {
   "cell_type": "markdown",
   "id": "e4fa6f34",
   "metadata": {},
   "source": [
    "### Get the data"
   ]
  },
  {
   "cell_type": "code",
   "execution_count": 339,
   "id": "60b288cd",
   "metadata": {},
   "outputs": [],
   "source": [
    "#Reading data\n",
    "wine_data = pd.read_csv('/Users/vinayarao/Documents/Python Projects/Wine Logistic Regression/PDO_wine_data_IT_FR.csv', sep = ';')"
   ]
  },
  {
   "cell_type": "code",
   "execution_count": 340,
   "id": "20b03549",
   "metadata": {},
   "outputs": [
    {
     "data": {
      "text/html": [
       "<div>\n",
       "<style scoped>\n",
       "    .dataframe tbody tr th:only-of-type {\n",
       "        vertical-align: middle;\n",
       "    }\n",
       "\n",
       "    .dataframe tbody tr th {\n",
       "        vertical-align: top;\n",
       "    }\n",
       "\n",
       "    .dataframe thead th {\n",
       "        text-align: right;\n",
       "    }\n",
       "</style>\n",
       "<table border=\"1\" class=\"dataframe\">\n",
       "  <thead>\n",
       "    <tr style=\"text-align: right;\">\n",
       "      <th></th>\n",
       "      <th>Country</th>\n",
       "      <th>PDOid</th>\n",
       "      <th>PDOnam</th>\n",
       "      <th>Registration</th>\n",
       "      <th>WineNam</th>\n",
       "      <th>Color</th>\n",
       "      <th>Category</th>\n",
       "      <th>Main_var</th>\n",
       "      <th>Second_var</th>\n",
       "      <th>Max_yield_hl</th>\n",
       "      <th>Max_yield_kg</th>\n",
       "      <th>Min_density</th>\n",
       "      <th>Info</th>\n",
       "    </tr>\n",
       "  </thead>\n",
       "  <tbody>\n",
       "    <tr>\n",
       "      <th>0</th>\n",
       "      <td>IT</td>\n",
       "      <td>PDO-IT-A0880</td>\n",
       "      <td>Abruzzo</td>\n",
       "      <td>2011-12-16 00:00:00</td>\n",
       "      <td>Abruzzo Bianco</td>\n",
       "      <td>White</td>\n",
       "      <td>Wine</td>\n",
       "      <td>Trebbiano Abruzzese B; Trebbiano Toscano B</td>\n",
       "      <td>Barbera Bianca B; Biancame B; Bombino Bianco B...</td>\n",
       "      <td>98</td>\n",
       "      <td>14000</td>\n",
       "      <td>2000</td>\n",
       "      <td>https://ec.europa.eu/info/food-farming-fisheri...</td>\n",
       "    </tr>\n",
       "    <tr>\n",
       "      <th>1</th>\n",
       "      <td>IT</td>\n",
       "      <td>PDO-IT-A0880</td>\n",
       "      <td>Abruzzo</td>\n",
       "      <td>2011-12-16 00:00:00</td>\n",
       "      <td>Abruzzo Rosso</td>\n",
       "      <td>Red</td>\n",
       "      <td>Wine</td>\n",
       "      <td>Montepulciano N</td>\n",
       "      <td>Aglianico N; Barbera N; Cabernet Franc N; Cabe...</td>\n",
       "      <td>84</td>\n",
       "      <td>12000</td>\n",
       "      <td>2000</td>\n",
       "      <td>https://ec.europa.eu/info/food-farming-fisheri...</td>\n",
       "    </tr>\n",
       "    <tr>\n",
       "      <th>2</th>\n",
       "      <td>IT</td>\n",
       "      <td>PDO-IT-A0880</td>\n",
       "      <td>Abruzzo</td>\n",
       "      <td>2011-12-16 00:00:00</td>\n",
       "      <td>Abruzzo Passito Bianco</td>\n",
       "      <td>White</td>\n",
       "      <td>Wine From Raisined Grapes</td>\n",
       "      <td>Malvasia Bianca Di Candia B; Malvasia Bianca L...</td>\n",
       "      <td>Barbera Bianca B; Biancame B; Bombino Bianco B...</td>\n",
       "      <td>98</td>\n",
       "      <td>14000</td>\n",
       "      <td>2000</td>\n",
       "      <td>https://ec.europa.eu/info/food-farming-fisheri...</td>\n",
       "    </tr>\n",
       "    <tr>\n",
       "      <th>3</th>\n",
       "      <td>IT</td>\n",
       "      <td>PDO-IT-A0880</td>\n",
       "      <td>Abruzzo</td>\n",
       "      <td>2011-12-16 00:00:00</td>\n",
       "      <td>Abruzzo Passito Rosso</td>\n",
       "      <td>Red</td>\n",
       "      <td>Wine From Raisined Grapes</td>\n",
       "      <td>Montepulciano N</td>\n",
       "      <td>Aglianico N; Barbera N; Cabernet Franc N; Cabe...</td>\n",
       "      <td>84</td>\n",
       "      <td>12000</td>\n",
       "      <td>2000</td>\n",
       "      <td>https://ec.europa.eu/info/food-farming-fisheri...</td>\n",
       "    </tr>\n",
       "    <tr>\n",
       "      <th>4</th>\n",
       "      <td>IT</td>\n",
       "      <td>PDO-IT-A0880</td>\n",
       "      <td>Abruzzo</td>\n",
       "      <td>2011-12-16 00:00:00</td>\n",
       "      <td>Abruzzo Spumante Bianco Charmat</td>\n",
       "      <td>White</td>\n",
       "      <td>Sparkling Wine</td>\n",
       "      <td>Chardonnay B; Cococciola B; Montonico Bianco B...</td>\n",
       "      <td>Barbera Bianca B; Biancame B; Bombino Bianco B...</td>\n",
       "      <td>98</td>\n",
       "      <td>14000</td>\n",
       "      <td>2000</td>\n",
       "      <td>https://ec.europa.eu/info/food-farming-fisheri...</td>\n",
       "    </tr>\n",
       "  </tbody>\n",
       "</table>\n",
       "</div>"
      ],
      "text/plain": [
       "  Country         PDOid   PDOnam         Registration  \\\n",
       "0      IT  PDO-IT-A0880  Abruzzo  2011-12-16 00:00:00   \n",
       "1      IT  PDO-IT-A0880  Abruzzo  2011-12-16 00:00:00   \n",
       "2      IT  PDO-IT-A0880  Abruzzo  2011-12-16 00:00:00   \n",
       "3      IT  PDO-IT-A0880  Abruzzo  2011-12-16 00:00:00   \n",
       "4      IT  PDO-IT-A0880  Abruzzo  2011-12-16 00:00:00   \n",
       "\n",
       "                           WineNam  Color                   Category  \\\n",
       "0                   Abruzzo Bianco  White                       Wine   \n",
       "1                    Abruzzo Rosso    Red                       Wine   \n",
       "2           Abruzzo Passito Bianco  White  Wine From Raisined Grapes   \n",
       "3            Abruzzo Passito Rosso    Red  Wine From Raisined Grapes   \n",
       "4  Abruzzo Spumante Bianco Charmat  White             Sparkling Wine   \n",
       "\n",
       "                                            Main_var  \\\n",
       "0         Trebbiano Abruzzese B; Trebbiano Toscano B   \n",
       "1                                    Montepulciano N   \n",
       "2  Malvasia Bianca Di Candia B; Malvasia Bianca L...   \n",
       "3                                    Montepulciano N   \n",
       "4  Chardonnay B; Cococciola B; Montonico Bianco B...   \n",
       "\n",
       "                                          Second_var Max_yield_hl  \\\n",
       "0  Barbera Bianca B; Biancame B; Bombino Bianco B...           98   \n",
       "1  Aglianico N; Barbera N; Cabernet Franc N; Cabe...           84   \n",
       "2  Barbera Bianca B; Biancame B; Bombino Bianco B...           98   \n",
       "3  Aglianico N; Barbera N; Cabernet Franc N; Cabe...           84   \n",
       "4  Barbera Bianca B; Biancame B; Bombino Bianco B...           98   \n",
       "\n",
       "  Max_yield_kg Min_density                                               Info  \n",
       "0        14000        2000  https://ec.europa.eu/info/food-farming-fisheri...  \n",
       "1        12000        2000  https://ec.europa.eu/info/food-farming-fisheri...  \n",
       "2        14000        2000  https://ec.europa.eu/info/food-farming-fisheri...  \n",
       "3        12000        2000  https://ec.europa.eu/info/food-farming-fisheri...  \n",
       "4        14000        2000  https://ec.europa.eu/info/food-farming-fisheri...  "
      ]
     },
     "execution_count": 340,
     "metadata": {},
     "output_type": "execute_result"
    }
   ],
   "source": [
    "wine_data.head()"
   ]
  },
  {
   "cell_type": "code",
   "execution_count": 341,
   "id": "cc0fae81",
   "metadata": {},
   "outputs": [
    {
     "name": "stdout",
     "output_type": "stream",
     "text": [
      "<class 'pandas.core.frame.DataFrame'>\n",
      "RangeIndex: 5489 entries, 0 to 5488\n",
      "Data columns (total 13 columns):\n",
      " #   Column        Non-Null Count  Dtype \n",
      "---  ------        --------------  ----- \n",
      " 0   Country       5489 non-null   object\n",
      " 1   PDOid         5489 non-null   object\n",
      " 2   PDOnam        5489 non-null   object\n",
      " 3   Registration  5489 non-null   object\n",
      " 4   WineNam       5489 non-null   object\n",
      " 5   Color         5489 non-null   object\n",
      " 6   Category      5489 non-null   object\n",
      " 7   Main_var      5489 non-null   object\n",
      " 8   Second_var    5489 non-null   object\n",
      " 9   Max_yield_hl  5489 non-null   object\n",
      " 10  Max_yield_kg  5489 non-null   object\n",
      " 11  Min_density   5489 non-null   object\n",
      " 12  Info          5489 non-null   object\n",
      "dtypes: object(13)\n",
      "memory usage: 557.6+ KB\n"
     ]
    }
   ],
   "source": [
    "wine_data.info()"
   ]
  },
  {
   "cell_type": "markdown",
   "id": "b31cc1bd",
   "metadata": {},
   "source": [
    "### Exploratory Data Analysis\n",
    "\n",
    "Using Seaborn to explore the data visually.\n",
    "\n",
    "#### Countplot of Country"
   ]
  },
  {
   "cell_type": "code",
   "execution_count": 342,
   "id": "2d7e2613",
   "metadata": {},
   "outputs": [
    {
     "data": {
      "text/plain": [
       "<Axes: xlabel='Country', ylabel='count'>"
      ]
     },
     "execution_count": 342,
     "metadata": {},
     "output_type": "execute_result"
    },
    {
     "data": {
      "image/png": "[encoded data removed]",
      "text/plain": [
       "<Figure size 640x480 with 1 Axes>"
      ]
     },
     "metadata": {},
     "output_type": "display_data"
    }
   ],
   "source": [
    "sns.countplot(data = wine_data, x = 'Country')"
   ]
  },
  {
   "cell_type": "markdown",
   "id": "87e8f591",
   "metadata": {},
   "source": [
    "#### Countplot of Color"
   ]
  },
  {
   "cell_type": "code",
   "execution_count": 343,
   "id": "dc0d8616",
   "metadata": {},
   "outputs": [
    {
     "data": {
      "text/plain": [
       "<Axes: xlabel='Color', ylabel='count'>"
      ]
     },
     "execution_count": 343,
     "metadata": {},
     "output_type": "execute_result"
    },
    {
     "data": {
      "image/png": "[encoded data removed]",
      "text/plain": [
       "<Figure size 640x480 with 1 Axes>"
      ]
     },
     "metadata": {},
     "output_type": "display_data"
    }
   ],
   "source": [
    "sns.countplot(data = wine_data, x = 'Color')"
   ]
  },
  {
   "cell_type": "markdown",
   "id": "3659646b",
   "metadata": {},
   "source": [
    "#### Countplot of Category"
   ]
  },
  {
   "cell_type": "code",
   "execution_count": 344,
   "id": "8ad71fce",
   "metadata": {},
   "outputs": [
    {
     "data": {
      "text/plain": [
       "(array([0, 1, 2, 3, 4, 5, 6, 7, 8, 9]),\n",
       " [Text(0, 0, 'Wine'),\n",
       "  Text(1, 0, 'Wine From Raisined Grapes'),\n",
       "  Text(2, 0, 'Sparkling Wine'),\n",
       "  Text(3, 0, 'Quality Sparkling Wine'),\n",
       "  Text(4, 0, 'Liqueur Wine'),\n",
       "  Text(5, 0, 'Semi-Sparkling Wine'),\n",
       "  Text(6, 0, 'Wine Of Overripe Grapes'),\n",
       "  Text(7, 0, 'Partially Fermented Grape Must Extracted From Raisined Grapes'),\n",
       "  Text(8, 0, 'Quality Aromatic Sparkling Wine'),\n",
       "  Text(9, 0, 'Partially Fermented Grape Must')])"
      ]
     },
     "execution_count": 344,
     "metadata": {},
     "output_type": "execute_result"
    },
    {
     "data": {
      "image/png": "[encoded data removed]",
      "text/plain": [
       "<Figure size 640x480 with 1 Axes>"
      ]
     },
     "metadata": {},
     "output_type": "display_data"
    }
   ],
   "source": [
    "sns.countplot(data = wine_data, x = 'Category')\n",
    "plt.xticks(rotation=90)"
   ]
  },
  {
   "cell_type": "markdown",
   "id": "fd18aa24",
   "metadata": {},
   "source": [
    "#### Exploring Maximum Yield Fields"
   ]
  },
  {
   "cell_type": "code",
   "execution_count": 345,
   "id": "95618e47",
   "metadata": {},
   "outputs": [
    {
     "data": {
      "text/plain": [
       "Max_yield_hl\n",
       "na       1437\n",
       "84        523\n",
       "70        340\n",
       "91        297\n",
       "63        253\n",
       "         ... \n",
       "81          1\n",
       "44,1        1\n",
       "62,5        1\n",
       "56,25       1\n",
       "8,1         1\n",
       "Name: count, Length: 118, dtype: int64"
      ]
     },
     "execution_count": 345,
     "metadata": {},
     "output_type": "execute_result"
    }
   ],
   "source": [
    "wine_data['Max_yield_hl'].value_counts()"
   ]
  },
  {
   "cell_type": "markdown",
   "id": "2b72161f",
   "metadata": {},
   "source": [
    "#### Replacing Commas with Decimal Points in Max_yield_hl"
   ]
  },
  {
   "cell_type": "code",
   "execution_count": 346,
   "id": "6520b570",
   "metadata": {},
   "outputs": [],
   "source": [
    "wine_data['Max_yield_hl'] = wine_data['Max_yield_hl'].str.replace(',', '.')"
   ]
  },
  {
   "cell_type": "markdown",
   "id": "96153e5e",
   "metadata": {},
   "source": [
    "#### Converting continuous variables to numeric data type"
   ]
  },
  {
   "cell_type": "code",
   "execution_count": 347,
   "id": "74722a3f",
   "metadata": {},
   "outputs": [],
   "source": [
    "wine_data['Max_yield_kg'] = pd.to_numeric(wine_data['Max_yield_kg'], errors = 'coerce')\n",
    "wine_data['Min_density'] = pd.to_numeric(wine_data['Min_density'], errors = 'coerce')\n",
    "wine_data['Max_yield_hl'] = pd.to_numeric(wine_data['Max_yield_hl'], errors = 'coerce')"
   ]
  },
  {
   "cell_type": "markdown",
   "id": "1f5c5207",
   "metadata": {},
   "source": [
    "#### Feature Engineering: Extract year from registration field"
   ]
  },
  {
   "cell_type": "code",
   "execution_count": 348,
   "id": "bc1b502e",
   "metadata": {},
   "outputs": [],
   "source": [
    "wine_data['year'] = pd.DatetimeIndex(wine_data['Registration']).year"
   ]
  },
  {
   "cell_type": "code",
   "execution_count": 349,
   "id": "f7df2a05",
   "metadata": {},
   "outputs": [
    {
     "name": "stdout",
     "output_type": "stream",
     "text": [
      "<class 'pandas.core.frame.DataFrame'>\n",
      "RangeIndex: 5489 entries, 0 to 5488\n",
      "Data columns (total 14 columns):\n",
      " #   Column        Non-Null Count  Dtype  \n",
      "---  ------        --------------  -----  \n",
      " 0   Country       5489 non-null   object \n",
      " 1   PDOid         5489 non-null   object \n",
      " 2   PDOnam        5489 non-null   object \n",
      " 3   Registration  5489 non-null   object \n",
      " 4   WineNam       5489 non-null   object \n",
      " 5   Color         5489 non-null   object \n",
      " 6   Category      5489 non-null   object \n",
      " 7   Main_var      5489 non-null   object \n",
      " 8   Second_var    5489 non-null   object \n",
      " 9   Max_yield_hl  4052 non-null   float64\n",
      " 10  Max_yield_kg  3958 non-null   float64\n",
      " 11  Min_density   4702 non-null   float64\n",
      " 12  Info          5489 non-null   object \n",
      " 13  year          5489 non-null   int32  \n",
      "dtypes: float64(3), int32(1), object(10)\n",
      "memory usage: 579.0+ KB\n"
     ]
    }
   ],
   "source": [
    "wine_data.info()"
   ]
  },
  {
   "cell_type": "markdown",
   "id": "179ec47f",
   "metadata": {},
   "source": [
    "#### Histogram of Max_yield_kg, Max_yield_hl and Min_density"
   ]
  },
  {
   "cell_type": "code",
   "execution_count": 350,
   "id": "1976fe3c",
   "metadata": {},
   "outputs": [
    {
     "data": {
      "text/plain": [
       "<Axes: xlabel='Max_yield_kg', ylabel='Count'>"
      ]
     },
     "execution_count": 350,
     "metadata": {},
     "output_type": "execute_result"
    },
    {
     "data": {
      "image/png": "[encoded data removed]",
      "text/plain": [
       "<Figure size 640x480 with 1 Axes>"
      ]
     },
     "metadata": {},
     "output_type": "display_data"
    }
   ],
   "source": [
    "sns.histplot(data = wine_data, x = 'Max_yield_kg')"
   ]
  },
  {
   "cell_type": "code",
   "execution_count": 351,
   "id": "307dcc95",
   "metadata": {},
   "outputs": [
    {
     "data": {
      "text/plain": [
       "<Axes: xlabel='Max_yield_hl', ylabel='Count'>"
      ]
     },
     "execution_count": 351,
     "metadata": {},
     "output_type": "execute_result"
    },
    {
     "data": {
      "image/png": "[encoded data removed]",
      "text/plain": [
       "<Figure size 640x480 with 1 Axes>"
      ]
     },
     "metadata": {},
     "output_type": "display_data"
    }
   ],
   "source": [
    "sns.histplot(data = wine_data, x = 'Max_yield_hl')"
   ]
  },
  {
   "cell_type": "code",
   "execution_count": 352,
   "id": "289f0314",
   "metadata": {},
   "outputs": [
    {
     "data": {
      "text/plain": [
       "<Axes: xlabel='Min_density', ylabel='Count'>"
      ]
     },
     "execution_count": 352,
     "metadata": {},
     "output_type": "execute_result"
    },
    {
     "data": {
      "image/png": "[encoded data removed]",
      "text/plain": [
       "<Figure size 640x480 with 1 Axes>"
      ]
     },
     "metadata": {},
     "output_type": "display_data"
    }
   ],
   "source": [
    "sns.histplot(data = wine_data, x = 'Min_density')"
   ]
  },
  {
   "cell_type": "markdown",
   "id": "884400ef",
   "metadata": {},
   "source": [
    "#### Max_yield_hl and Max_yield_kg have a few extreme outliers. Removing them to have clean data."
   ]
  },
  {
   "cell_type": "code",
   "execution_count": 353,
   "id": "25434f49",
   "metadata": {},
   "outputs": [
    {
     "data": {
      "text/plain": [
       "Max_yield_hl\n",
       "6635.0    1\n",
       "Name: count, dtype: int64"
      ]
     },
     "execution_count": 353,
     "metadata": {},
     "output_type": "execute_result"
    }
   ],
   "source": [
    "wine_data[wine_data['Max_yield_hl'] > 1000]['Max_yield_hl'].value_counts()"
   ]
  },
  {
   "cell_type": "code",
   "execution_count": 354,
   "id": "6cf95a99",
   "metadata": {},
   "outputs": [
    {
     "data": {
      "text/plain": [
       "Max_yield_kg\n",
       "80000.0    7\n",
       "Name: count, dtype: int64"
      ]
     },
     "execution_count": 354,
     "metadata": {},
     "output_type": "execute_result"
    }
   ],
   "source": [
    "wine_data[wine_data['Max_yield_kg'] > 25000]['Max_yield_kg'].value_counts()"
   ]
  },
  {
   "cell_type": "code",
   "execution_count": 355,
   "id": "47ed753e",
   "metadata": {},
   "outputs": [],
   "source": [
    "wine_data = wine_data[(wine_data['Max_yield_hl'].isnull()) | (wine_data['Max_yield_hl'] < 1000)]\n",
    "\n",
    "wine_data = wine_data[(wine_data['Max_yield_kg'].isnull()) | (wine_data['Max_yield_kg'] < 25000)]"
   ]
  },
  {
   "cell_type": "markdown",
   "id": "4bc2858b",
   "metadata": {},
   "source": [
    "#### Boxplot of Max_yield_kg, Max_yield_hl, Min_density by color"
   ]
  },
  {
   "cell_type": "code",
   "execution_count": 356,
   "id": "d575de82",
   "metadata": {},
   "outputs": [
    {
     "data": {
      "text/plain": [
       "<Axes: xlabel='Color', ylabel='Max_yield_kg'>"
      ]
     },
     "execution_count": 356,
     "metadata": {},
     "output_type": "execute_result"
    },
    {
     "data": {
      "image/png": "[encoded data removed]",
      "text/plain": [
       "<Figure size 640x480 with 1 Axes>"
      ]
     },
     "metadata": {},
     "output_type": "display_data"
    }
   ],
   "source": [
    "sns.boxplot(data = wine_data, x = 'Color', y = 'Max_yield_kg')"
   ]
  },
  {
   "cell_type": "code",
   "execution_count": 357,
   "id": "ce44eb9d",
   "metadata": {},
   "outputs": [
    {
     "data": {
      "text/plain": [
       "<Axes: xlabel='Color', ylabel='Max_yield_hl'>"
      ]
     },
     "execution_count": 357,
     "metadata": {},
     "output_type": "execute_result"
    },
    {
     "data": {
      "image/png": "[encoded data removed]",
      "text/plain": [
       "<Figure size 640x480 with 1 Axes>"
      ]
     },
     "metadata": {},
     "output_type": "display_data"
    }
   ],
   "source": [
    "sns.boxplot(data = wine_data, x = 'Color', y = 'Max_yield_hl')"
   ]
  },
  {
   "cell_type": "code",
   "execution_count": 358,
   "id": "2df626da",
   "metadata": {},
   "outputs": [
    {
     "data": {
      "text/plain": [
       "<Axes: xlabel='Color', ylabel='Min_density'>"
      ]
     },
     "execution_count": 358,
     "metadata": {},
     "output_type": "execute_result"
    },
    {
     "data": {
      "image/png": "[encoded data removed]",
      "text/plain": [
       "<Figure size 640x480 with 1 Axes>"
      ]
     },
     "metadata": {},
     "output_type": "display_data"
    }
   ],
   "source": [
    "sns.boxplot(data = wine_data, x = 'Color', y = 'Min_density')"
   ]
  },
  {
   "cell_type": "markdown",
   "id": "3d9c5376",
   "metadata": {},
   "source": [
    "#### Finding the correlation between numeric variables"
   ]
  },
  {
   "cell_type": "code",
   "execution_count": 359,
   "id": "23f23906",
   "metadata": {},
   "outputs": [
    {
     "data": {
      "text/plain": [
       "0.8145703258734522"
      ]
     },
     "execution_count": 359,
     "metadata": {},
     "output_type": "execute_result"
    }
   ],
   "source": [
    "wine_data['Max_yield_hl'].corr(wine_data['Max_yield_kg'])"
   ]
  },
  {
   "cell_type": "code",
   "execution_count": 360,
   "id": "87a27720",
   "metadata": {},
   "outputs": [
    {
     "data": {
      "text/plain": [
       "-0.3621413882629208"
      ]
     },
     "execution_count": 360,
     "metadata": {},
     "output_type": "execute_result"
    }
   ],
   "source": [
    "wine_data['Max_yield_kg'].corr(wine_data['Min_density'])"
   ]
  },
  {
   "cell_type": "markdown",
   "id": "05ffa200",
   "metadata": {},
   "source": [
    "#### Checking relationship between yield , year and country"
   ]
  },
  {
   "cell_type": "code",
   "execution_count": 361,
   "id": "bca106ae",
   "metadata": {
    "scrolled": false
   },
   "outputs": [
    {
     "data": {
      "text/plain": [
       "<Axes: xlabel='Max_yield_kg', ylabel='year'>"
      ]
     },
     "execution_count": 361,
     "metadata": {},
     "output_type": "execute_result"
    },
    {
     "data": {
      "image/png": "[encoded data removed]",
      "text/plain": [
       "<Figure size 640x480 with 1 Axes>"
      ]
     },
     "metadata": {},
     "output_type": "display_data"
    }
   ],
   "source": [
    "sns.scatterplot(data = wine_data, x = 'Max_yield_kg', y = 'year', hue = 'Country')"
   ]
  },
  {
   "cell_type": "markdown",
   "id": "d28528ca",
   "metadata": {},
   "source": [
    "### Handling Missing Data\n",
    "#### Heatmap to visualize Null values"
   ]
  },
  {
   "cell_type": "code",
   "execution_count": 362,
   "id": "1825667e",
   "metadata": {},
   "outputs": [
    {
     "data": {
      "text/plain": [
       "<Axes: >"
      ]
     },
     "execution_count": 362,
     "metadata": {},
     "output_type": "execute_result"
    },
    {
     "data": {
      "image/png": "[encoded data removed]",
      "text/plain": [
       "<Figure size 640x480 with 1 Axes>"
      ]
     },
     "metadata": {},
     "output_type": "display_data"
    }
   ],
   "source": [
    "sns.heatmap(wine_data.isnull(),yticklabels=False,cbar=False,cmap='viridis')"
   ]
  },
  {
   "cell_type": "markdown",
   "id": "7ef146c7",
   "metadata": {},
   "source": [
    "#### Imputing Null values with mean"
   ]
  },
  {
   "cell_type": "code",
   "execution_count": 363,
   "id": "ef5593ca",
   "metadata": {},
   "outputs": [],
   "source": [
    "wine_data['Max_yield_hl'] = wine_data['Max_yield_hl'].fillna(wine_data['Max_yield_hl'].mean())\n",
    "wine_data['Max_yield_kg'] = wine_data['Max_yield_kg'].fillna(wine_data['Max_yield_kg'].mean())\n",
    "wine_data['Min_density'] = wine_data['Min_density'].fillna(wine_data['Min_density'].mean())"
   ]
  },
  {
   "cell_type": "markdown",
   "id": "30a326e7",
   "metadata": {},
   "source": [
    "#### Confirming null values are replaced"
   ]
  },
  {
   "cell_type": "code",
   "execution_count": 364,
   "id": "c61a4e60",
   "metadata": {
    "scrolled": true
   },
   "outputs": [
    {
     "data": {
      "text/plain": [
       "<Axes: >"
      ]
     },
     "execution_count": 364,
     "metadata": {},
     "output_type": "execute_result"
    },
    {
     "data": {
      "image/png": "[encoded data removed]",
      "text/plain": [
       "<Figure size 640x480 with 1 Axes>"
      ]
     },
     "metadata": {},
     "output_type": "display_data"
    }
   ],
   "source": [
    "sns.heatmap(wine_data.isnull(),yticklabels=False,cbar=False,cmap='viridis')"
   ]
  },
  {
   "cell_type": "markdown",
   "id": "728cc245",
   "metadata": {},
   "source": [
    "#### Replacing categorical variables with dummy variables"
   ]
  },
  {
   "cell_type": "code",
   "execution_count": 365,
   "id": "300f1fe0",
   "metadata": {},
   "outputs": [],
   "source": [
    "color = pd.get_dummies(wine_data['Color'], drop_first=True)\n",
    "category = pd.get_dummies(wine_data['Category'], drop_first=True)\n",
    "country_int = pd.get_dummies(wine_data['Country'], drop_first=True)\n",
    "wine_data_final = pd.concat([wine_data, color, category], axis = 1)"
   ]
  },
  {
   "cell_type": "code",
   "execution_count": 366,
   "id": "6fc7d21d",
   "metadata": {},
   "outputs": [
    {
     "name": "stdout",
     "output_type": "stream",
     "text": [
      "<class 'pandas.core.frame.DataFrame'>\n",
      "Index: 5481 entries, 0 to 5488\n",
      "Data columns (total 25 columns):\n",
      " #   Column                                                         Non-Null Count  Dtype  \n",
      "---  ------                                                         --------------  -----  \n",
      " 0   Country                                                        5481 non-null   object \n",
      " 1   PDOid                                                          5481 non-null   object \n",
      " 2   PDOnam                                                         5481 non-null   object \n",
      " 3   Registration                                                   5481 non-null   object \n",
      " 4   WineNam                                                        5481 non-null   object \n",
      " 5   Color                                                          5481 non-null   object \n",
      " 6   Category                                                       5481 non-null   object \n",
      " 7   Main_var                                                       5481 non-null   object \n",
      " 8   Second_var                                                     5481 non-null   object \n",
      " 9   Max_yield_hl                                                   5481 non-null   float64\n",
      " 10  Max_yield_kg                                                   5481 non-null   float64\n",
      " 11  Min_density                                                    5481 non-null   float64\n",
      " 12  Info                                                           5481 non-null   object \n",
      " 13  year                                                           5481 non-null   int32  \n",
      " 14  Rosé                                                           5481 non-null   bool   \n",
      " 15  White                                                          5481 non-null   bool   \n",
      " 16  Partially Fermented Grape Must                                 5481 non-null   bool   \n",
      " 17  Partially Fermented Grape Must Extracted From Raisined Grapes  5481 non-null   bool   \n",
      " 18  Quality Aromatic Sparkling Wine                                5481 non-null   bool   \n",
      " 19  Quality Sparkling Wine                                         5481 non-null   bool   \n",
      " 20  Semi-Sparkling Wine                                            5481 non-null   bool   \n",
      " 21  Sparkling Wine                                                 5481 non-null   bool   \n",
      " 22  Wine                                                           5481 non-null   bool   \n",
      " 23  Wine From Raisined Grapes                                      5481 non-null   bool   \n",
      " 24  Wine Of Overripe Grapes                                        5481 non-null   bool   \n",
      "dtypes: bool(11), float64(3), int32(1), object(10)\n",
      "memory usage: 679.8+ KB\n"
     ]
    }
   ],
   "source": [
    "wine_data_final.info()"
   ]
  },
  {
   "cell_type": "markdown",
   "id": "f7f48f89",
   "metadata": {},
   "source": [
    "## Modelling\n",
    "#### Selecting relevant predictor and target variables"
   ]
  },
  {
   "cell_type": "code",
   "execution_count": 367,
   "id": "8d84eab6",
   "metadata": {},
   "outputs": [],
   "source": [
    "X = wine_data_final.drop(['Country','PDOid', 'PDOnam', 'Registration', 'WineNam', 'Main_var', 'Second_var', 'Info', 'Color', 'Category'], axis = 1)\n",
    "y = wine_data_final['Country']"
   ]
  },
  {
   "cell_type": "markdown",
   "id": "3eef9d59",
   "metadata": {},
   "source": [
    "#### Splitting data into train and test"
   ]
  },
  {
   "cell_type": "code",
   "execution_count": 368,
   "id": "55289951",
   "metadata": {},
   "outputs": [],
   "source": [
    "from sklearn.model_selection import train_test_split"
   ]
  },
  {
   "cell_type": "code",
   "execution_count": 369,
   "id": "b941f9c0",
   "metadata": {},
   "outputs": [],
   "source": [
    "X_train, X_test, y_train, y_test = train_test_split(X, y, test_size=0.3)"
   ]
  },
  {
   "cell_type": "markdown",
   "id": "79dacc23",
   "metadata": {},
   "source": [
    "### Logistic Regression using sklearn\n",
    "#### Fitting Logistic Regression model to predict country"
   ]
  },
  {
   "cell_type": "code",
   "execution_count": 370,
   "id": "b7dd19af",
   "metadata": {},
   "outputs": [],
   "source": [
    "from sklearn.linear_model import LogisticRegression"
   ]
  },
  {
   "cell_type": "code",
   "execution_count": 371,
   "id": "453f03e0",
   "metadata": {},
   "outputs": [],
   "source": [
    "logmodel = LogisticRegression()"
   ]
  },
  {
   "cell_type": "code",
   "execution_count": 372,
   "id": "32b5628e",
   "metadata": {},
   "outputs": [
    {
     "data": {
      "text/html": [
       "<style>#sk-container-id-13 {color: black;}#sk-container-id-13 pre{padding: 0;}#sk-container-id-13 div.sk-toggleable {background-color: white;}#sk-container-id-13 label.sk-toggleable__label {cursor: pointer;display: block;width: 100%;margin-bottom: 0;padding: 0.3em;box-sizing: border-box;text-align: center;}#sk-container-id-13 label.sk-toggleable__label-arrow:before {content: \"▸\";float: left;margin-right: 0.25em;color: #696969;}#sk-container-id-13 label.sk-toggleable__label-arrow:hover:before {color: black;}#sk-container-id-13 div.sk-estimator:hover label.sk-toggleable__label-arrow:before {color: black;}#sk-container-id-13 div.sk-toggleable__content {max-height: 0;max-width: 0;overflow: hidden;text-align: left;background-color: #f0f8ff;}#sk-container-id-13 div.sk-toggleable__content pre {margin: 0.2em;color: black;border-radius: 0.25em;background-color: #f0f8ff;}#sk-container-id-13 input.sk-toggleable__control:checked~div.sk-toggleable__content {max-height: 200px;max-width: 100%;overflow: auto;}#sk-container-id-13 input.sk-toggleable__control:checked~label.sk-toggleable__label-arrow:before {content: \"▾\";}#sk-container-id-13 div.sk-estimator input.sk-toggleable__control:checked~label.sk-toggleable__label {background-color: #d4ebff;}#sk-container-id-13 div.sk-label input.sk-toggleable__control:checked~label.sk-toggleable__label {background-color: #d4ebff;}#sk-container-id-13 input.sk-hidden--visually {border: 0;clip: rect(1px 1px 1px 1px);clip: rect(1px, 1px, 1px, 1px);height: 1px;margin: -1px;overflow: hidden;padding: 0;position: absolute;width: 1px;}#sk-container-id-13 div.sk-estimator {font-family: monospace;background-color: #f0f8ff;border: 1px dotted black;border-radius: 0.25em;box-sizing: border-box;margin-bottom: 0.5em;}#sk-container-id-13 div.sk-estimator:hover {background-color: #d4ebff;}#sk-container-id-13 div.sk-parallel-item::after {content: \"\";width: 100%;border-bottom: 1px solid gray;flex-grow: 1;}#sk-container-id-13 div.sk-label:hover label.sk-toggleable__label {background-color: #d4ebff;}#sk-container-id-13 div.sk-serial::before {content: \"\";position: absolute;border-left: 1px solid gray;box-sizing: border-box;top: 0;bottom: 0;left: 50%;z-index: 0;}#sk-container-id-13 div.sk-serial {display: flex;flex-direction: column;align-items: center;background-color: white;padding-right: 0.2em;padding-left: 0.2em;position: relative;}#sk-container-id-13 div.sk-item {position: relative;z-index: 1;}#sk-container-id-13 div.sk-parallel {display: flex;align-items: stretch;justify-content: center;background-color: white;position: relative;}#sk-container-id-13 div.sk-item::before, #sk-container-id-13 div.sk-parallel-item::before {content: \"\";position: absolute;border-left: 1px solid gray;box-sizing: border-box;top: 0;bottom: 0;left: 50%;z-index: -1;}#sk-container-id-13 div.sk-parallel-item {display: flex;flex-direction: column;z-index: 1;position: relative;background-color: white;}#sk-container-id-13 div.sk-parallel-item:first-child::after {align-self: flex-end;width: 50%;}#sk-container-id-13 div.sk-parallel-item:last-child::after {align-self: flex-start;width: 50%;}#sk-container-id-13 div.sk-parallel-item:only-child::after {width: 0;}#sk-container-id-13 div.sk-dashed-wrapped {border: 1px dashed gray;margin: 0 0.4em 0.5em 0.4em;box-sizing: border-box;padding-bottom: 0.4em;background-color: white;}#sk-container-id-13 div.sk-label label {font-family: monospace;font-weight: bold;display: inline-block;line-height: 1.2em;}#sk-container-id-13 div.sk-label-container {text-align: center;}#sk-container-id-13 div.sk-container {/* jupyter's `normalize.less` sets `[hidden] { display: none; }` but bootstrap.min.css set `[hidden] { display: none !important; }` so we also need the `!important` here to be able to override the default hidden behavior on the sphinx rendered scikit-learn.org. See: https://github.com/scikit-learn/scikit-learn/issues/21755 */display: inline-block !important;position: relative;}#sk-container-id-13 div.sk-text-repr-fallback {display: none;}</style><div id=\"sk-container-id-13\" class=\"sk-top-container\"><div class=\"sk-text-repr-fallback\"><pre>LogisticRegression()</pre><b>In a Jupyter environment, please rerun this cell to show the HTML representation or trust the notebook. <br />On GitHub, the HTML representation is unable to render, please try loading this page with nbviewer.org.</b></div><div class=\"sk-container\" hidden><div class=\"sk-item\"><div class=\"sk-estimator sk-toggleable\"><input class=\"sk-toggleable__control sk-hidden--visually\" id=\"sk-estimator-id-13\" type=\"checkbox\" checked><label for=\"sk-estimator-id-13\" class=\"sk-toggleable__label sk-toggleable__label-arrow\">LogisticRegression</label><div class=\"sk-toggleable__content\"><pre>LogisticRegression()</pre></div></div></div></div></div>"
      ],
      "text/plain": [
       "LogisticRegression()"
      ]
     },
     "execution_count": 372,
     "metadata": {},
     "output_type": "execute_result"
    }
   ],
   "source": [
    "logmodel.fit(X_train, y_train)"
   ]
  },
  {
   "cell_type": "markdown",
   "id": "c3300478",
   "metadata": {},
   "source": [
    "#### Predicting output with test data"
   ]
  },
  {
   "cell_type": "code",
   "execution_count": 373,
   "id": "46aab4ba",
   "metadata": {},
   "outputs": [],
   "source": [
    "predictions = logmodel.predict(X_test)"
   ]
  },
  {
   "cell_type": "markdown",
   "id": "89697bb3",
   "metadata": {},
   "source": [
    "#### Printing performance metrics"
   ]
  },
  {
   "cell_type": "code",
   "execution_count": 374,
   "id": "bb1f7a6d",
   "metadata": {},
   "outputs": [],
   "source": [
    "from sklearn.metrics import confusion_matrix, classification_report"
   ]
  },
  {
   "cell_type": "code",
   "execution_count": 375,
   "id": "63e9c786",
   "metadata": {},
   "outputs": [
    {
     "data": {
      "text/plain": [
       "array([[ 262,   80],\n",
       "       [  41, 1262]])"
      ]
     },
     "execution_count": 375,
     "metadata": {},
     "output_type": "execute_result"
    }
   ],
   "source": [
    "confusion_matrix(y_test, predictions)"
   ]
  },
  {
   "cell_type": "code",
   "execution_count": 376,
   "id": "6a9d015c",
   "metadata": {
    "scrolled": true
   },
   "outputs": [
    {
     "name": "stdout",
     "output_type": "stream",
     "text": [
      "              precision    recall  f1-score   support\n",
      "\n",
      "          FR       0.86      0.77      0.81       342\n",
      "          IT       0.94      0.97      0.95      1303\n",
      "\n",
      "    accuracy                           0.93      1645\n",
      "   macro avg       0.90      0.87      0.88      1645\n",
      "weighted avg       0.92      0.93      0.92      1645\n",
      "\n"
     ]
    }
   ],
   "source": [
    "print(classification_report(y_test, predictions))"
   ]
  },
  {
   "cell_type": "code",
   "execution_count": 377,
   "id": "e018710e",
   "metadata": {},
   "outputs": [
    {
     "data": {
      "text/plain": [
       "array([[ 7.93651248e-02, -4.95007667e-04, -3.74408676e-03,\n",
       "         8.21432179e-03, -7.03206826e-04,  5.83892418e-05,\n",
       "         4.05053093e-08, -8.52951403e-07, -1.81665827e-05,\n",
       "        -9.92628182e-05,  3.34916165e-04,  2.89331638e-04,\n",
       "        -3.83541455e-04,  1.22693666e-04,  2.59246653e-05]])"
      ]
     },
     "execution_count": 377,
     "metadata": {},
     "output_type": "execute_result"
    }
   ],
   "source": [
    "logmodel.coef_"
   ]
  },
  {
   "cell_type": "markdown",
   "id": "24aac8ff",
   "metadata": {},
   "source": [
    "The performance metrics are pretty good. But to improve it further, I will try to remove features that are not statistically significant."
   ]
  },
  {
   "cell_type": "markdown",
   "id": "6faf83d1",
   "metadata": {},
   "source": [
    "### Logistic Regression using Statsmodels to find significance of coefficients\n",
    "#### Fitting Logistic Regression model to predict country"
   ]
  },
  {
   "cell_type": "code",
   "execution_count": 378,
   "id": "7874f8ea",
   "metadata": {},
   "outputs": [],
   "source": [
    "import statsmodels.api as sm"
   ]
  },
  {
   "cell_type": "code",
   "execution_count": 379,
   "id": "8eb88ba2",
   "metadata": {},
   "outputs": [],
   "source": [
    "y_sm = (y == 'IT').astype(int)"
   ]
  },
  {
   "cell_type": "code",
   "execution_count": 380,
   "id": "c31a455d",
   "metadata": {},
   "outputs": [],
   "source": [
    "X_cons = sm.add_constant(X)\n",
    "\n",
    "model = sm.Logit(y_sm, X_cons.astype(int))"
   ]
  },
  {
   "cell_type": "code",
   "execution_count": 381,
   "id": "5210aaf2",
   "metadata": {},
   "outputs": [
    {
     "name": "stdout",
     "output_type": "stream",
     "text": [
      "Warning: Maximum number of iterations has been exceeded.\n",
      "         Current function value: 0.161701\n",
      "         Iterations: 35\n"
     ]
    },
    {
     "name": "stderr",
     "output_type": "stream",
     "text": [
      "/Users/vinayarao/anaconda3/lib/python3.11/site-packages/statsmodels/base/model.py:607: ConvergenceWarning: Maximum Likelihood optimization failed to converge. Check mle_retvals\n",
      "  warnings.warn(\"Maximum Likelihood optimization failed to \"\n"
     ]
    }
   ],
   "source": [
    "result = model.fit()"
   ]
  },
  {
   "cell_type": "code",
   "execution_count": 382,
   "id": "2b5b32b5",
   "metadata": {},
   "outputs": [
    {
     "name": "stdout",
     "output_type": "stream",
     "text": [
      "                           Logit Regression Results                           \n",
      "==============================================================================\n",
      "Dep. Variable:                Country   No. Observations:                 5481\n",
      "Model:                          Logit   Df Residuals:                     5465\n",
      "Method:                           MLE   Df Model:                           15\n",
      "Date:                Wed, 14 Aug 2024   Pseudo R-squ.:                  0.6897\n",
      "Time:                        14:54:58   Log-Likelihood:                -886.29\n",
      "converged:                      False   LL-Null:                       -2856.2\n",
      "Covariance Type:            nonrobust   LLR p-value:                     0.000\n",
      "=================================================================================================================================\n",
      "                                                                    coef    std err          z      P>|z|      [0.025      0.975]\n",
      "---------------------------------------------------------------------------------------------------------------------------------\n",
      "const                                                           -55.3029      8.338     -6.633      0.000     -71.644     -38.962\n",
      "Max_yield_hl                                                      0.0942      0.005     18.703      0.000       0.084       0.104\n",
      "Max_yield_kg                                                     -0.0005   3.65e-05    -14.514      0.000      -0.001      -0.000\n",
      "Min_density                                                      -0.0034      0.000    -23.583      0.000      -0.004      -0.003\n",
      "year                                                              0.0349      0.004      8.373      0.000       0.027       0.043\n",
      "Rosé                                                             -1.7742      0.198     -8.947      0.000      -2.163      -1.386\n",
      "White                                                            -0.3706      0.137     -2.708      0.007      -0.639      -0.102\n",
      "Partially Fermented Grape Must                                    9.3777   2564.345      0.004      0.997   -5016.647    5035.402\n",
      "Partially Fermented Grape Must Extracted From Raisined Grapes  -163.6600   2.04e+37  -8.03e-36      1.000   -3.99e+37    3.99e+37\n",
      "Quality Aromatic Sparkling Wine                                   0.6427      0.788      0.816      0.415      -0.901       2.187\n",
      "Quality Sparkling Wine                                            0.2114      0.480      0.440      0.660      -0.730       1.152\n",
      "Semi-Sparkling Wine                                               4.1743      0.693      6.025      0.000       2.816       5.532\n",
      "Sparkling Wine                                                   23.5719   8247.018      0.003      0.998   -1.61e+04    1.62e+04\n",
      "Wine                                                              0.7542      0.405      1.862      0.063      -0.040       1.548\n",
      "Wine From Raisined Grapes                                         8.6152      1.105      7.797      0.000       6.449      10.781\n",
      "Wine Of Overripe Grapes                                          22.0058   1.06e+04      0.002      0.998   -2.07e+04    2.07e+04\n",
      "=================================================================================================================================\n",
      "\n",
      "Possibly complete quasi-separation: A fraction 0.17 of observations can be\n",
      "perfectly predicted. This might indicate that there is complete\n",
      "quasi-separation. In this case some parameters will not be identified.\n"
     ]
    }
   ],
   "source": [
    "print(result.summary())"
   ]
  },
  {
   "cell_type": "markdown",
   "id": "fb797176",
   "metadata": {},
   "source": [
    "#### Category variable is not statistically significant, it can be omitted from our predictor set. "
   ]
  },
  {
   "cell_type": "code",
   "execution_count": 383,
   "id": "b022eac5",
   "metadata": {},
   "outputs": [],
   "source": [
    "wine_data_final = pd.concat([wine_data, color], axis = 1)"
   ]
  },
  {
   "cell_type": "code",
   "execution_count": 384,
   "id": "6e9dd845",
   "metadata": {},
   "outputs": [],
   "source": [
    "X = wine_data_final.drop(['Country','PDOid', 'PDOnam', 'Registration', 'WineNam', 'Main_var', 'Second_var', 'Info', 'Color', 'Category'], axis = 1)\n",
    "y = wine_data_final['Country']"
   ]
  },
  {
   "cell_type": "markdown",
   "id": "9ff6f1c7",
   "metadata": {},
   "source": [
    "#### Splitting data into train and test"
   ]
  },
  {
   "cell_type": "code",
   "execution_count": 385,
   "id": "5d2585ad",
   "metadata": {},
   "outputs": [],
   "source": [
    "from sklearn.model_selection import train_test_split"
   ]
  },
  {
   "cell_type": "code",
   "execution_count": 386,
   "id": "ad9e35db",
   "metadata": {},
   "outputs": [],
   "source": [
    "X_train, X_test, y_train, y_test = train_test_split(X, y, test_size=0.3)"
   ]
  },
  {
   "cell_type": "markdown",
   "id": "5e0c168a",
   "metadata": {},
   "source": [
    "### Retrain the model using sklearn\n",
    "#### Fitting Logistic Regression model to predict country"
   ]
  },
  {
   "cell_type": "code",
   "execution_count": 387,
   "id": "ba02a129",
   "metadata": {},
   "outputs": [],
   "source": [
    "from sklearn.linear_model import LogisticRegression"
   ]
  },
  {
   "cell_type": "code",
   "execution_count": 388,
   "id": "adc7daee",
   "metadata": {},
   "outputs": [],
   "source": [
    "logmodel = LogisticRegression()"
   ]
  },
  {
   "cell_type": "code",
   "execution_count": 389,
   "id": "314748d3",
   "metadata": {},
   "outputs": [
    {
     "data": {
      "text/html": [
       "<style>#sk-container-id-14 {color: black;}#sk-container-id-14 pre{padding: 0;}#sk-container-id-14 div.sk-toggleable {background-color: white;}#sk-container-id-14 label.sk-toggleable__label {cursor: pointer;display: block;width: 100%;margin-bottom: 0;padding: 0.3em;box-sizing: border-box;text-align: center;}#sk-container-id-14 label.sk-toggleable__label-arrow:before {content: \"▸\";float: left;margin-right: 0.25em;color: #696969;}#sk-container-id-14 label.sk-toggleable__label-arrow:hover:before {color: black;}#sk-container-id-14 div.sk-estimator:hover label.sk-toggleable__label-arrow:before {color: black;}#sk-container-id-14 div.sk-toggleable__content {max-height: 0;max-width: 0;overflow: hidden;text-align: left;background-color: #f0f8ff;}#sk-container-id-14 div.sk-toggleable__content pre {margin: 0.2em;color: black;border-radius: 0.25em;background-color: #f0f8ff;}#sk-container-id-14 input.sk-toggleable__control:checked~div.sk-toggleable__content {max-height: 200px;max-width: 100%;overflow: auto;}#sk-container-id-14 input.sk-toggleable__control:checked~label.sk-toggleable__label-arrow:before {content: \"▾\";}#sk-container-id-14 div.sk-estimator input.sk-toggleable__control:checked~label.sk-toggleable__label {background-color: #d4ebff;}#sk-container-id-14 div.sk-label input.sk-toggleable__control:checked~label.sk-toggleable__label {background-color: #d4ebff;}#sk-container-id-14 input.sk-hidden--visually {border: 0;clip: rect(1px 1px 1px 1px);clip: rect(1px, 1px, 1px, 1px);height: 1px;margin: -1px;overflow: hidden;padding: 0;position: absolute;width: 1px;}#sk-container-id-14 div.sk-estimator {font-family: monospace;background-color: #f0f8ff;border: 1px dotted black;border-radius: 0.25em;box-sizing: border-box;margin-bottom: 0.5em;}#sk-container-id-14 div.sk-estimator:hover {background-color: #d4ebff;}#sk-container-id-14 div.sk-parallel-item::after {content: \"\";width: 100%;border-bottom: 1px solid gray;flex-grow: 1;}#sk-container-id-14 div.sk-label:hover label.sk-toggleable__label {background-color: #d4ebff;}#sk-container-id-14 div.sk-serial::before {content: \"\";position: absolute;border-left: 1px solid gray;box-sizing: border-box;top: 0;bottom: 0;left: 50%;z-index: 0;}#sk-container-id-14 div.sk-serial {display: flex;flex-direction: column;align-items: center;background-color: white;padding-right: 0.2em;padding-left: 0.2em;position: relative;}#sk-container-id-14 div.sk-item {position: relative;z-index: 1;}#sk-container-id-14 div.sk-parallel {display: flex;align-items: stretch;justify-content: center;background-color: white;position: relative;}#sk-container-id-14 div.sk-item::before, #sk-container-id-14 div.sk-parallel-item::before {content: \"\";position: absolute;border-left: 1px solid gray;box-sizing: border-box;top: 0;bottom: 0;left: 50%;z-index: -1;}#sk-container-id-14 div.sk-parallel-item {display: flex;flex-direction: column;z-index: 1;position: relative;background-color: white;}#sk-container-id-14 div.sk-parallel-item:first-child::after {align-self: flex-end;width: 50%;}#sk-container-id-14 div.sk-parallel-item:last-child::after {align-self: flex-start;width: 50%;}#sk-container-id-14 div.sk-parallel-item:only-child::after {width: 0;}#sk-container-id-14 div.sk-dashed-wrapped {border: 1px dashed gray;margin: 0 0.4em 0.5em 0.4em;box-sizing: border-box;padding-bottom: 0.4em;background-color: white;}#sk-container-id-14 div.sk-label label {font-family: monospace;font-weight: bold;display: inline-block;line-height: 1.2em;}#sk-container-id-14 div.sk-label-container {text-align: center;}#sk-container-id-14 div.sk-container {/* jupyter's `normalize.less` sets `[hidden] { display: none; }` but bootstrap.min.css set `[hidden] { display: none !important; }` so we also need the `!important` here to be able to override the default hidden behavior on the sphinx rendered scikit-learn.org. See: https://github.com/scikit-learn/scikit-learn/issues/21755 */display: inline-block !important;position: relative;}#sk-container-id-14 div.sk-text-repr-fallback {display: none;}</style><div id=\"sk-container-id-14\" class=\"sk-top-container\"><div class=\"sk-text-repr-fallback\"><pre>LogisticRegression()</pre><b>In a Jupyter environment, please rerun this cell to show the HTML representation or trust the notebook. <br />On GitHub, the HTML representation is unable to render, please try loading this page with nbviewer.org.</b></div><div class=\"sk-container\" hidden><div class=\"sk-item\"><div class=\"sk-estimator sk-toggleable\"><input class=\"sk-toggleable__control sk-hidden--visually\" id=\"sk-estimator-id-14\" type=\"checkbox\" checked><label for=\"sk-estimator-id-14\" class=\"sk-toggleable__label sk-toggleable__label-arrow\">LogisticRegression</label><div class=\"sk-toggleable__content\"><pre>LogisticRegression()</pre></div></div></div></div></div>"
      ],
      "text/plain": [
       "LogisticRegression()"
      ]
     },
     "execution_count": 389,
     "metadata": {},
     "output_type": "execute_result"
    }
   ],
   "source": [
    "logmodel.fit(X_train, y_train)"
   ]
  },
  {
   "cell_type": "markdown",
   "id": "08c2d773",
   "metadata": {},
   "source": [
    "#### Predicting output with test data"
   ]
  },
  {
   "cell_type": "code",
   "execution_count": 390,
   "id": "5a218f43",
   "metadata": {},
   "outputs": [],
   "source": [
    "predictions = logmodel.predict(X_test)"
   ]
  },
  {
   "cell_type": "markdown",
   "id": "e33d1d94",
   "metadata": {},
   "source": [
    "#### Printing performance metrics"
   ]
  },
  {
   "cell_type": "code",
   "execution_count": 391,
   "id": "97660461",
   "metadata": {},
   "outputs": [],
   "source": [
    "from sklearn.metrics import confusion_matrix, classification_report"
   ]
  },
  {
   "cell_type": "code",
   "execution_count": 392,
   "id": "8c97a68b",
   "metadata": {},
   "outputs": [
    {
     "data": {
      "text/plain": [
       "array([[ 259,   83],\n",
       "       [  30, 1273]])"
      ]
     },
     "execution_count": 392,
     "metadata": {},
     "output_type": "execute_result"
    }
   ],
   "source": [
    "confusion_matrix(y_test, predictions)"
   ]
  },
  {
   "cell_type": "code",
   "execution_count": 393,
   "id": "343fd507",
   "metadata": {
    "scrolled": true
   },
   "outputs": [
    {
     "name": "stdout",
     "output_type": "stream",
     "text": [
      "              precision    recall  f1-score   support\n",
      "\n",
      "          FR       0.90      0.76      0.82       342\n",
      "          IT       0.94      0.98      0.96      1303\n",
      "\n",
      "    accuracy                           0.93      1645\n",
      "   macro avg       0.92      0.87      0.89      1645\n",
      "weighted avg       0.93      0.93      0.93      1645\n",
      "\n"
     ]
    }
   ],
   "source": [
    "print(classification_report(y_test, predictions))"
   ]
  },
  {
   "cell_type": "markdown",
   "id": "1412b85e",
   "metadata": {},
   "source": [
    "#### Omitting the category variable has not improved the performance of the model much. I will now fit the data to a Random Forest model with the goal of achieving better performance."
   ]
  },
  {
   "cell_type": "markdown",
   "id": "3db52ff0",
   "metadata": {},
   "source": [
    "### Random Forest"
   ]
  },
  {
   "cell_type": "code",
   "execution_count": 394,
   "id": "3f81523e",
   "metadata": {},
   "outputs": [],
   "source": [
    "from sklearn.ensemble import RandomForestClassifier"
   ]
  },
  {
   "cell_type": "code",
   "execution_count": 395,
   "id": "218f1b53",
   "metadata": {},
   "outputs": [],
   "source": [
    "rfc = RandomForestClassifier(n_estimators=300)"
   ]
  },
  {
   "cell_type": "code",
   "execution_count": 396,
   "id": "e1189f99",
   "metadata": {},
   "outputs": [
    {
     "data": {
      "text/html": [
       "<style>#sk-container-id-15 {color: black;}#sk-container-id-15 pre{padding: 0;}#sk-container-id-15 div.sk-toggleable {background-color: white;}#sk-container-id-15 label.sk-toggleable__label {cursor: pointer;display: block;width: 100%;margin-bottom: 0;padding: 0.3em;box-sizing: border-box;text-align: center;}#sk-container-id-15 label.sk-toggleable__label-arrow:before {content: \"▸\";float: left;margin-right: 0.25em;color: #696969;}#sk-container-id-15 label.sk-toggleable__label-arrow:hover:before {color: black;}#sk-container-id-15 div.sk-estimator:hover label.sk-toggleable__label-arrow:before {color: black;}#sk-container-id-15 div.sk-toggleable__content {max-height: 0;max-width: 0;overflow: hidden;text-align: left;background-color: #f0f8ff;}#sk-container-id-15 div.sk-toggleable__content pre {margin: 0.2em;color: black;border-radius: 0.25em;background-color: #f0f8ff;}#sk-container-id-15 input.sk-toggleable__control:checked~div.sk-toggleable__content {max-height: 200px;max-width: 100%;overflow: auto;}#sk-container-id-15 input.sk-toggleable__control:checked~label.sk-toggleable__label-arrow:before {content: \"▾\";}#sk-container-id-15 div.sk-estimator input.sk-toggleable__control:checked~label.sk-toggleable__label {background-color: #d4ebff;}#sk-container-id-15 div.sk-label input.sk-toggleable__control:checked~label.sk-toggleable__label {background-color: #d4ebff;}#sk-container-id-15 input.sk-hidden--visually {border: 0;clip: rect(1px 1px 1px 1px);clip: rect(1px, 1px, 1px, 1px);height: 1px;margin: -1px;overflow: hidden;padding: 0;position: absolute;width: 1px;}#sk-container-id-15 div.sk-estimator {font-family: monospace;background-color: #f0f8ff;border: 1px dotted black;border-radius: 0.25em;box-sizing: border-box;margin-bottom: 0.5em;}#sk-container-id-15 div.sk-estimator:hover {background-color: #d4ebff;}#sk-container-id-15 div.sk-parallel-item::after {content: \"\";width: 100%;border-bottom: 1px solid gray;flex-grow: 1;}#sk-container-id-15 div.sk-label:hover label.sk-toggleable__label {background-color: #d4ebff;}#sk-container-id-15 div.sk-serial::before {content: \"\";position: absolute;border-left: 1px solid gray;box-sizing: border-box;top: 0;bottom: 0;left: 50%;z-index: 0;}#sk-container-id-15 div.sk-serial {display: flex;flex-direction: column;align-items: center;background-color: white;padding-right: 0.2em;padding-left: 0.2em;position: relative;}#sk-container-id-15 div.sk-item {position: relative;z-index: 1;}#sk-container-id-15 div.sk-parallel {display: flex;align-items: stretch;justify-content: center;background-color: white;position: relative;}#sk-container-id-15 div.sk-item::before, #sk-container-id-15 div.sk-parallel-item::before {content: \"\";position: absolute;border-left: 1px solid gray;box-sizing: border-box;top: 0;bottom: 0;left: 50%;z-index: -1;}#sk-container-id-15 div.sk-parallel-item {display: flex;flex-direction: column;z-index: 1;position: relative;background-color: white;}#sk-container-id-15 div.sk-parallel-item:first-child::after {align-self: flex-end;width: 50%;}#sk-container-id-15 div.sk-parallel-item:last-child::after {align-self: flex-start;width: 50%;}#sk-container-id-15 div.sk-parallel-item:only-child::after {width: 0;}#sk-container-id-15 div.sk-dashed-wrapped {border: 1px dashed gray;margin: 0 0.4em 0.5em 0.4em;box-sizing: border-box;padding-bottom: 0.4em;background-color: white;}#sk-container-id-15 div.sk-label label {font-family: monospace;font-weight: bold;display: inline-block;line-height: 1.2em;}#sk-container-id-15 div.sk-label-container {text-align: center;}#sk-container-id-15 div.sk-container {/* jupyter's `normalize.less` sets `[hidden] { display: none; }` but bootstrap.min.css set `[hidden] { display: none !important; }` so we also need the `!important` here to be able to override the default hidden behavior on the sphinx rendered scikit-learn.org. See: https://github.com/scikit-learn/scikit-learn/issues/21755 */display: inline-block !important;position: relative;}#sk-container-id-15 div.sk-text-repr-fallback {display: none;}</style><div id=\"sk-container-id-15\" class=\"sk-top-container\"><div class=\"sk-text-repr-fallback\"><pre>RandomForestClassifier(n_estimators=300)</pre><b>In a Jupyter environment, please rerun this cell to show the HTML representation or trust the notebook. <br />On GitHub, the HTML representation is unable to render, please try loading this page with nbviewer.org.</b></div><div class=\"sk-container\" hidden><div class=\"sk-item\"><div class=\"sk-estimator sk-toggleable\"><input class=\"sk-toggleable__control sk-hidden--visually\" id=\"sk-estimator-id-15\" type=\"checkbox\" checked><label for=\"sk-estimator-id-15\" class=\"sk-toggleable__label sk-toggleable__label-arrow\">RandomForestClassifier</label><div class=\"sk-toggleable__content\"><pre>RandomForestClassifier(n_estimators=300)</pre></div></div></div></div></div>"
      ],
      "text/plain": [
       "RandomForestClassifier(n_estimators=300)"
      ]
     },
     "execution_count": 396,
     "metadata": {},
     "output_type": "execute_result"
    }
   ],
   "source": [
    "rfc.fit(X_train, y_train)"
   ]
  },
  {
   "cell_type": "code",
   "execution_count": 397,
   "id": "58959226",
   "metadata": {},
   "outputs": [],
   "source": [
    "rfc_pred = rfc.predict(X_test)"
   ]
  },
  {
   "cell_type": "code",
   "execution_count": 398,
   "id": "064ae234",
   "metadata": {},
   "outputs": [
    {
     "name": "stdout",
     "output_type": "stream",
     "text": [
      "[[ 340    2]\n",
      " [   1 1302]]\n"
     ]
    }
   ],
   "source": [
    "print(confusion_matrix(y_test, rfc_pred))"
   ]
  },
  {
   "cell_type": "code",
   "execution_count": 399,
   "id": "aef41c31",
   "metadata": {},
   "outputs": [
    {
     "name": "stdout",
     "output_type": "stream",
     "text": [
      "              precision    recall  f1-score   support\n",
      "\n",
      "          FR       1.00      0.99      1.00       342\n",
      "          IT       1.00      1.00      1.00      1303\n",
      "\n",
      "    accuracy                           1.00      1645\n",
      "   macro avg       1.00      1.00      1.00      1645\n",
      "weighted avg       1.00      1.00      1.00      1645\n",
      "\n"
     ]
    }
   ],
   "source": [
    "print(classification_report(y_test, rfc_pred))"
   ]
  },
  {
   "cell_type": "markdown",
   "id": "26273352",
   "metadata": {},
   "source": [
    "#### The Random Forest model is the best of the fitted models with the highest accuracy,  precision and recall."
   ]
  },
  {
   "cell_type": "markdown",
   "id": "219f276c",
   "metadata": {},
   "source": [
    "### Clustering"
   ]
  },
  {
   "cell_type": "code",
   "execution_count": 400,
   "id": "19e84425",
   "metadata": {},
   "outputs": [],
   "source": [
    "from sklearn.cluster import KMeans"
   ]
  },
  {
   "cell_type": "code",
   "execution_count": 401,
   "id": "5ce99734",
   "metadata": {},
   "outputs": [],
   "source": [
    "kmeans = KMeans(n_clusters=2)"
   ]
  },
  {
   "cell_type": "code",
   "execution_count": 402,
   "id": "6f1dfdc8",
   "metadata": {},
   "outputs": [
    {
     "name": "stderr",
     "output_type": "stream",
     "text": [
      "/Users/vinayarao/anaconda3/lib/python3.11/site-packages/sklearn/cluster/_kmeans.py:1412: FutureWarning: The default value of `n_init` will change from 10 to 'auto' in 1.4. Set the value of `n_init` explicitly to suppress the warning\n",
      "  super()._check_params_vs_input(X, default_n_init=10)\n"
     ]
    },
    {
     "data": {
      "text/html": [
       "<style>#sk-container-id-16 {color: black;}#sk-container-id-16 pre{padding: 0;}#sk-container-id-16 div.sk-toggleable {background-color: white;}#sk-container-id-16 label.sk-toggleable__label {cursor: pointer;display: block;width: 100%;margin-bottom: 0;padding: 0.3em;box-sizing: border-box;text-align: center;}#sk-container-id-16 label.sk-toggleable__label-arrow:before {content: \"▸\";float: left;margin-right: 0.25em;color: #696969;}#sk-container-id-16 label.sk-toggleable__label-arrow:hover:before {color: black;}#sk-container-id-16 div.sk-estimator:hover label.sk-toggleable__label-arrow:before {color: black;}#sk-container-id-16 div.sk-toggleable__content {max-height: 0;max-width: 0;overflow: hidden;text-align: left;background-color: #f0f8ff;}#sk-container-id-16 div.sk-toggleable__content pre {margin: 0.2em;color: black;border-radius: 0.25em;background-color: #f0f8ff;}#sk-container-id-16 input.sk-toggleable__control:checked~div.sk-toggleable__content {max-height: 200px;max-width: 100%;overflow: auto;}#sk-container-id-16 input.sk-toggleable__control:checked~label.sk-toggleable__label-arrow:before {content: \"▾\";}#sk-container-id-16 div.sk-estimator input.sk-toggleable__control:checked~label.sk-toggleable__label {background-color: #d4ebff;}#sk-container-id-16 div.sk-label input.sk-toggleable__control:checked~label.sk-toggleable__label {background-color: #d4ebff;}#sk-container-id-16 input.sk-hidden--visually {border: 0;clip: rect(1px 1px 1px 1px);clip: rect(1px, 1px, 1px, 1px);height: 1px;margin: -1px;overflow: hidden;padding: 0;position: absolute;width: 1px;}#sk-container-id-16 div.sk-estimator {font-family: monospace;background-color: #f0f8ff;border: 1px dotted black;border-radius: 0.25em;box-sizing: border-box;margin-bottom: 0.5em;}#sk-container-id-16 div.sk-estimator:hover {background-color: #d4ebff;}#sk-container-id-16 div.sk-parallel-item::after {content: \"\";width: 100%;border-bottom: 1px solid gray;flex-grow: 1;}#sk-container-id-16 div.sk-label:hover label.sk-toggleable__label {background-color: #d4ebff;}#sk-container-id-16 div.sk-serial::before {content: \"\";position: absolute;border-left: 1px solid gray;box-sizing: border-box;top: 0;bottom: 0;left: 50%;z-index: 0;}#sk-container-id-16 div.sk-serial {display: flex;flex-direction: column;align-items: center;background-color: white;padding-right: 0.2em;padding-left: 0.2em;position: relative;}#sk-container-id-16 div.sk-item {position: relative;z-index: 1;}#sk-container-id-16 div.sk-parallel {display: flex;align-items: stretch;justify-content: center;background-color: white;position: relative;}#sk-container-id-16 div.sk-item::before, #sk-container-id-16 div.sk-parallel-item::before {content: \"\";position: absolute;border-left: 1px solid gray;box-sizing: border-box;top: 0;bottom: 0;left: 50%;z-index: -1;}#sk-container-id-16 div.sk-parallel-item {display: flex;flex-direction: column;z-index: 1;position: relative;background-color: white;}#sk-container-id-16 div.sk-parallel-item:first-child::after {align-self: flex-end;width: 50%;}#sk-container-id-16 div.sk-parallel-item:last-child::after {align-self: flex-start;width: 50%;}#sk-container-id-16 div.sk-parallel-item:only-child::after {width: 0;}#sk-container-id-16 div.sk-dashed-wrapped {border: 1px dashed gray;margin: 0 0.4em 0.5em 0.4em;box-sizing: border-box;padding-bottom: 0.4em;background-color: white;}#sk-container-id-16 div.sk-label label {font-family: monospace;font-weight: bold;display: inline-block;line-height: 1.2em;}#sk-container-id-16 div.sk-label-container {text-align: center;}#sk-container-id-16 div.sk-container {/* jupyter's `normalize.less` sets `[hidden] { display: none; }` but bootstrap.min.css set `[hidden] { display: none !important; }` so we also need the `!important` here to be able to override the default hidden behavior on the sphinx rendered scikit-learn.org. See: https://github.com/scikit-learn/scikit-learn/issues/21755 */display: inline-block !important;position: relative;}#sk-container-id-16 div.sk-text-repr-fallback {display: none;}</style><div id=\"sk-container-id-16\" class=\"sk-top-container\"><div class=\"sk-text-repr-fallback\"><pre>KMeans(n_clusters=2)</pre><b>In a Jupyter environment, please rerun this cell to show the HTML representation or trust the notebook. <br />On GitHub, the HTML representation is unable to render, please try loading this page with nbviewer.org.</b></div><div class=\"sk-container\" hidden><div class=\"sk-item\"><div class=\"sk-estimator sk-toggleable\"><input class=\"sk-toggleable__control sk-hidden--visually\" id=\"sk-estimator-id-16\" type=\"checkbox\" checked><label for=\"sk-estimator-id-16\" class=\"sk-toggleable__label sk-toggleable__label-arrow\">KMeans</label><div class=\"sk-toggleable__content\"><pre>KMeans(n_clusters=2)</pre></div></div></div></div></div>"
      ],
      "text/plain": [
       "KMeans(n_clusters=2)"
      ]
     },
     "execution_count": 402,
     "metadata": {},
     "output_type": "execute_result"
    }
   ],
   "source": [
    "kmeans.fit(X)"
   ]
  },
  {
   "cell_type": "code",
   "execution_count": 403,
   "id": "d002ac5f",
   "metadata": {
    "scrolled": true
   },
   "outputs": [
    {
     "data": {
      "text/plain": [
       "array([[6.36782490e+01, 1.03484155e+04, 4.20352410e+03, 1.98806267e+03,\n",
       "        8.72007094e-02, 4.44871416e-01],\n",
       "       [8.35002833e+01, 1.31909736e+04, 3.06343957e+03, 1.99411821e+03,\n",
       "        1.03908484e-01, 5.34795043e-01]])"
      ]
     },
     "execution_count": 403,
     "metadata": {},
     "output_type": "execute_result"
    }
   ],
   "source": [
    "kmeans.cluster_centers_"
   ]
  },
  {
   "cell_type": "code",
   "execution_count": 404,
   "id": "2406487f",
   "metadata": {},
   "outputs": [
    {
     "data": {
      "text/plain": [
       "array([1, 1, 1, ..., 0, 1, 1], dtype=int32)"
      ]
     },
     "execution_count": 404,
     "metadata": {},
     "output_type": "execute_result"
    }
   ],
   "source": [
    "kmeans.labels_"
   ]
  },
  {
   "cell_type": "code",
   "execution_count": 405,
   "id": "cd27efe7",
   "metadata": {},
   "outputs": [],
   "source": [
    "from sklearn.metrics import classification_report, confusion_matrix"
   ]
  },
  {
   "cell_type": "code",
   "execution_count": 406,
   "id": "00da91dd",
   "metadata": {},
   "outputs": [
    {
     "data": {
      "text/plain": [
       "array([[1168,   13],\n",
       "       [2215, 2085]])"
      ]
     },
     "execution_count": 406,
     "metadata": {},
     "output_type": "execute_result"
    }
   ],
   "source": [
    "confusion_matrix(country_int,kmeans.labels_)"
   ]
  },
  {
   "cell_type": "code",
   "execution_count": 407,
   "id": "f7b909ba",
   "metadata": {},
   "outputs": [
    {
     "name": "stdout",
     "output_type": "stream",
     "text": [
      "              precision    recall  f1-score   support\n",
      "\n",
      "       False       0.35      0.99      0.51      1181\n",
      "        True       0.99      0.48      0.65      4300\n",
      "\n",
      "    accuracy                           0.59      5481\n",
      "   macro avg       0.67      0.74      0.58      5481\n",
      "weighted avg       0.85      0.59      0.62      5481\n",
      "\n"
     ]
    }
   ],
   "source": [
    "print(classification_report(country_int, kmeans.labels_))"
   ]
  },
  {
   "cell_type": "markdown",
   "id": "8b096f80",
   "metadata": {},
   "source": [
    "#### The performance metrics are not very high. I will use the elbow method to find the best value for the number of clusters."
   ]
  },
  {
   "cell_type": "code",
   "execution_count": 408,
   "id": "577a1093",
   "metadata": {},
   "outputs": [],
   "source": [
    "inertia = []"
   ]
  },
  {
   "cell_type": "code",
   "execution_count": 409,
   "id": "8014dbe1",
   "metadata": {},
   "outputs": [
    {
     "name": "stderr",
     "output_type": "stream",
     "text": [
      "/Users/vinayarao/anaconda3/lib/python3.11/site-packages/sklearn/cluster/_kmeans.py:1412: FutureWarning: The default value of `n_init` will change from 10 to 'auto' in 1.4. Set the value of `n_init` explicitly to suppress the warning\n",
      "  super()._check_params_vs_input(X, default_n_init=10)\n",
      "/Users/vinayarao/anaconda3/lib/python3.11/site-packages/sklearn/cluster/_kmeans.py:1412: FutureWarning: The default value of `n_init` will change from 10 to 'auto' in 1.4. Set the value of `n_init` explicitly to suppress the warning\n",
      "  super()._check_params_vs_input(X, default_n_init=10)\n",
      "/Users/vinayarao/anaconda3/lib/python3.11/site-packages/sklearn/cluster/_kmeans.py:1412: FutureWarning: The default value of `n_init` will change from 10 to 'auto' in 1.4. Set the value of `n_init` explicitly to suppress the warning\n",
      "  super()._check_params_vs_input(X, default_n_init=10)\n",
      "/Users/vinayarao/anaconda3/lib/python3.11/site-packages/sklearn/cluster/_kmeans.py:1412: FutureWarning: The default value of `n_init` will change from 10 to 'auto' in 1.4. Set the value of `n_init` explicitly to suppress the warning\n",
      "  super()._check_params_vs_input(X, default_n_init=10)\n",
      "/Users/vinayarao/anaconda3/lib/python3.11/site-packages/sklearn/cluster/_kmeans.py:1412: FutureWarning: The default value of `n_init` will change from 10 to 'auto' in 1.4. Set the value of `n_init` explicitly to suppress the warning\n",
      "  super()._check_params_vs_input(X, default_n_init=10)\n",
      "/Users/vinayarao/anaconda3/lib/python3.11/site-packages/sklearn/cluster/_kmeans.py:1412: FutureWarning: The default value of `n_init` will change from 10 to 'auto' in 1.4. Set the value of `n_init` explicitly to suppress the warning\n",
      "  super()._check_params_vs_input(X, default_n_init=10)\n",
      "/Users/vinayarao/anaconda3/lib/python3.11/site-packages/sklearn/cluster/_kmeans.py:1412: FutureWarning: The default value of `n_init` will change from 10 to 'auto' in 1.4. Set the value of `n_init` explicitly to suppress the warning\n",
      "  super()._check_params_vs_input(X, default_n_init=10)\n",
      "/Users/vinayarao/anaconda3/lib/python3.11/site-packages/sklearn/cluster/_kmeans.py:1412: FutureWarning: The default value of `n_init` will change from 10 to 'auto' in 1.4. Set the value of `n_init` explicitly to suppress the warning\n",
      "  super()._check_params_vs_input(X, default_n_init=10)\n",
      "/Users/vinayarao/anaconda3/lib/python3.11/site-packages/sklearn/cluster/_kmeans.py:1412: FutureWarning: The default value of `n_init` will change from 10 to 'auto' in 1.4. Set the value of `n_init` explicitly to suppress the warning\n",
      "  super()._check_params_vs_input(X, default_n_init=10)\n",
      "/Users/vinayarao/anaconda3/lib/python3.11/site-packages/sklearn/cluster/_kmeans.py:1412: FutureWarning: The default value of `n_init` will change from 10 to 'auto' in 1.4. Set the value of `n_init` explicitly to suppress the warning\n",
      "  super()._check_params_vs_input(X, default_n_init=10)\n"
     ]
    }
   ],
   "source": [
    "for k in range(1,11):\n",
    "    kmeans = KMeans(n_clusters=k)\n",
    "    kmeans.fit(X)\n",
    "    inertia.append(kmeans.inertia_)"
   ]
  },
  {
   "cell_type": "code",
   "execution_count": 410,
   "id": "757e2d30",
   "metadata": {},
   "outputs": [
    {
     "data": {
      "text/plain": [
       "[<matplotlib.lines.Line2D at 0x323ce0e10>]"
      ]
     },
     "execution_count": 410,
     "metadata": {},
     "output_type": "execute_result"
    },
    {
     "data": {
      "image/png": "[encoded data removed]",
      "text/plain": [
       "<Figure size 640x480 with 1 Axes>"
      ]
     },
     "metadata": {},
     "output_type": "display_data"
    }
   ],
   "source": [
    "plt.plot(range(1, 11, 1), inertia)"
   ]
  },
  {
   "cell_type": "markdown",
   "id": "e553aa6c",
   "metadata": {},
   "source": [
    "#### The optimum number of clusters is 4. This suggests that the cluster reveals something about the wine types that go beyond the countries."
   ]
  }
 ],
 "metadata": {
  "kernelspec": {
   "display_name": "Python 3 (ipykernel)",
   "language": "python",
   "name": "python3"
  },
  "language_info": {
   "codemirror_mode": {
    "name": "ipython",
    "version": 3
   },
   "file_extension": ".py",
   "mimetype": "text/x-python",
   "name": "python",
   "nbconvert_exporter": "python",
   "pygments_lexer": "ipython3",
   "version": "3.11.5"
  }
 },
 "nbformat": 4,
 "nbformat_minor": 5
}
